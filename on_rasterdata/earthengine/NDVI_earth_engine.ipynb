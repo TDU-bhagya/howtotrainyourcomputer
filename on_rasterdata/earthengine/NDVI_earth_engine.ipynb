{
 "cells": [
  {
   "cell_type": "code",
   "execution_count": 1,
   "metadata": {
    "ExecuteTime": {
     "end_time": "2018-09-27T20:35:27.640875Z",
     "start_time": "2018-09-27T20:35:22.212379Z"
    },
    "collapsed": true
   },
   "outputs": [],
   "source": [
    "import ee\n",
    "from ee import batch\n",
    "## Initialize connection to server\n",
    "ee.Initialize()"
   ]
  },
  {
   "cell_type": "code",
   "execution_count": null,
   "metadata": {
    "collapsed": true
   },
   "outputs": [],
   "source": [
    "collection = ee.ImageCollection('LANDSAT/LC8_L1T_TOA')\n",
    "nps_bounds = bound_geometry(ll,ur)\n",
    "# We can use that object to apply a filter to the world_collection to only include images\n",
    "# that intersect the spatial bounds we define.   \n",
    "cbe_collection = collection.filterBounds(nps_bounds)\n",
    "\n",
    "cc_cr = cbe_collection.filter(ee.Filter.lt('CLOUD_COVER', 1))\n",
    "\n",
    "tr_cr = cc_cr.filter(ee.Filter.date('2016-01-01', '2017-01-01'))\n",
    "\n",
    "#plt.imshow(tr_cr, cmap='gray')\n",
    "#plt.show()\n",
    "\n",
    "print(collection_length(tr_cr), \"images available in monterey_collection.\")"
   ]
  },
  {
   "cell_type": "code",
   "execution_count": null,
   "metadata": {
    "collapsed": true
   },
   "outputs": [],
   "source": [
    "dates_of_images = dates_available(tr_cr)\n",
    "print(\"Dates available:\",dates_of_images)\n",
    "\n",
    "# # I also created a function to query which bands are available in a collection.\n",
    "available_bands_in_monterey = available_bands(tr_cr)\n",
    "for k, v in available_bands_in_monterey.items():\n",
    "    print(\"Band\", k, \"is available in\", v['number_available'], \"images. (\", v['percent_available'], \"%)\")"
   ]
  },
  {
   "cell_type": "code",
   "execution_count": null,
   "metadata": {
    "collapsed": true
   },
   "outputs": [],
   "source": [
    "ll=(76.7, 10.75)\n",
    "ur=(77.2, 11.25)"
   ]
  },
  {
   "cell_type": "code",
   "execution_count": 2,
   "metadata": {
    "ExecuteTime": {
     "end_time": "2018-09-27T20:37:08.367632Z",
     "start_time": "2018-09-27T20:37:07.660401Z"
    },
    "collapsed": true
   },
   "outputs": [],
   "source": [
    "%matplotlib inline\n",
    "%load_ext autoreload \n",
    "%autoreload 2\n",
    "import matplotlib.pyplot as plt\n",
    "import matplotlib.image as mpimg\n",
    "import scipy.misc\n",
    "import numpy as np\n",
    "import fiona\n",
    "from shapely import geometry\n",
    "import pprint as pp\n",
    "import ee\n",
    "ee.Initialize()\n",
    "\n",
    "from gee_library import *\n",
    "\n",
    "import pprint as pp\n",
    "\n",
    "ll=(76.7, 10.75)\n",
    "ur=(77.2, 11.25)"
   ]
  },
  {
   "cell_type": "code",
   "execution_count": null,
   "metadata": {
    "collapsed": true
   },
   "outputs": [],
   "source": [
    "collection = ee.ImageCollection('LANDSAT/LC8_L1T_TOA')\n",
    "nps_bounds = bound_geometry(ll,ur)\n",
    "\n",
    "grid_collection = collection.filterBounds(nps_bounds)\n",
    "\n",
    "tr_cr = grid_collection.filter(ee.Filter.date('2015-01-01', '2017-01-01'))\n",
    "\n",
    "cc_cr = tr_cr.filter(ee.Filter.lt('CLOUD_COVER', 2))\n",
    "\n",
    "\n",
    "try:\n",
    "    tiles,img_affine = img_at_region(geCollection=cc_cr,resolution=30,bands=['B2', 'B3', 'B4', 'B5'],geo_bounds=nps_bounds)\n",
    "except: \n",
    "    print \"no suitable image for this region is found during this period, may be try extend the duration of search\""
   ]
  },
  {
   "cell_type": "code",
   "execution_count": null,
   "metadata": {
    "collapsed": true
   },
   "outputs": [],
   "source": [
    "pixels=100\n",
    "np_band_array = [scipy.misc.imresize(tiles[b], (pixels, pixels)) for b in ['B4', 'B3', 'B2']]\n",
    "    \n",
    "# and stack the images in a matrix\n",
    "img = np.dstack(np_band_array)\n",
    "# Display the image\n",
    "plt.imshow(img); plt.show()\n",
    "\n"
   ]
  },
  {
   "cell_type": "code",
   "execution_count": null,
   "metadata": {
    "collapsed": true
   },
   "outputs": [],
   "source": [
    "ndvi=(tiles['B5']-tiles['B4'])/(tiles['B5']+tiles['B4'])\n",
    "\n",
    "a_ndvi = np.where(ndvi<0.5,0,1)"
   ]
  }
 ],
 "metadata": {
  "kernelspec": {
   "display_name": "Python 2",
   "language": "python",
   "name": "python2"
  },
  "language_info": {
   "codemirror_mode": {
    "name": "ipython",
    "version": 2
   },
   "file_extension": ".py",
   "mimetype": "text/x-python",
   "name": "python",
   "nbconvert_exporter": "python",
   "pygments_lexer": "ipython2",
   "version": "2.7.14"
  },
  "toc": {
   "colors": {
    "hover_highlight": "#DAA520",
    "navigate_num": "#000000",
    "navigate_text": "#333333",
    "running_highlight": "#FF0000",
    "selected_highlight": "#FFD700",
    "sidebar_border": "#EEEEEE",
    "wrapper_background": "#FFFFFF"
   },
   "moveMenuLeft": true,
   "nav_menu": {
    "height": "12px",
    "width": "252px"
   },
   "navigate_menu": true,
   "number_sections": true,
   "sideBar": true,
   "threshold": 4,
   "toc_cell": false,
   "toc_section_display": "block",
   "toc_window_display": false,
   "widenNotebook": false
  }
 },
 "nbformat": 4,
 "nbformat_minor": 2
}
