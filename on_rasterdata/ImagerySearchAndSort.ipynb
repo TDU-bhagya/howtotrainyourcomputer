{
 "cells": [
  {
   "cell_type": "markdown",
   "metadata": {},
   "source": [
    "# Convert the imagery in geotiff into numpy arrays"
   ]
  },
  {
   "cell_type": "code",
   "execution_count": null,
   "metadata": {
    "collapsed": true
   },
   "outputs": [],
   "source": [
    "import rasterio"
   ]
  },
  {
   "cell_type": "markdown",
   "metadata": {},
   "source": [
    "## Multiband"
   ]
  },
  {
   "cell_type": "code",
   "execution_count": null,
   "metadata": {
    "collapsed": true
   },
   "outputs": [],
   "source": [
    "dataset = rasterio.open(\"../data/raster/Mumbai_2016.tif\")\n",
    "data=dataset.read(1)"
   ]
  },
  {
   "cell_type": "markdown",
   "metadata": {},
   "source": [
    "## Single band"
   ]
  },
  {
   "cell_type": "code",
   "execution_count": null,
   "metadata": {
    "collapsed": true
   },
   "outputs": [],
   "source": [
    "dataset = rasterio.open(\"../data/raster/LC81480472016284LGN00_B6.tif\")\n",
    "data=dataset.read(1)"
   ]
  },
  {
   "cell_type": "code",
   "execution_count": null,
   "metadata": {
    "ExecuteTime": {
     "end_time": "2018-09-27T20:50:39.043791Z",
     "start_time": "2018-09-27T20:50:38.976201Z"
    }
   },
   "outputs": [],
   "source": [
    "data.shape"
   ]
  },
  {
   "cell_type": "markdown",
   "metadata": {
    "ExecuteTime": {
     "end_time": "2018-09-27T20:50:18.228765Z",
     "start_time": "2018-09-27T20:50:18.221442Z"
    }
   },
   "source": [
    "## Subset a satellite imagery"
   ]
  },
  {
   "cell_type": "code",
   "execution_count": null,
   "metadata": {
    "collapsed": true
   },
   "outputs": [],
   "source": [
    "import fiona\n",
    "import rasterio\n",
    "import rasterio.tools.mask\n",
    "import glob\n",
    "import os\n",
    "import ntpath\n",
    "\n",
    "\n",
    "with fiona.open(\"Mumbai_extent_32643.shp\", \"r\") as shapefile:\n",
    "    features = [feature[\"geometry\"] for feature in shapefile]\n",
    "\n",
    "\n",
    "lcfolders='mumbai/LC81480472016284LGN00'\n",
    "    \n",
    "def path_leaf(path):\n",
    "    head, tail = ntpath.split(path)\n",
    "    return tail or ntpath.basename(head)\n",
    "\n",
    "tifiles=glob.glob(lcfolders+'/*.TIF')\n",
    "for tifile in tifiles:\n",
    "    shpfiles2=(os.path.splitext(tifile)[0])\n",
    "    shpfile1=path_leaf(shpfiles2)\n",
    "    with rasterio.open(tifile) as src:\n",
    "        out_image, out_transform = rasterio.tools.mask.mask(src, features,crop=True)\n",
    "        out_meta = src.meta.copy()\n",
    "        out_meta.update({\"driver\": \"GTiff\",\"height\": out_image.shape[1],\"width\": out_image.shape[2],\"transform\": out_transform})\n",
    "        with rasterio.open('/home/sunbird/treecover/Msubset/'+shpfile1+\".tif\", \"w\", **out_meta) as dest:\n",
    "            dest.write(out_image)"
   ]
  }
 ],
 "metadata": {
  "author": "Satellite Imagery Search and Sort",
  "kernelspec": {
   "display_name": "Python 2",
   "language": "python",
   "name": "python2"
  },
  "language_info": {
   "codemirror_mode": {
    "name": "ipython",
    "version": 2
   },
   "file_extension": ".py",
   "mimetype": "text/x-python",
   "name": "python",
   "nbconvert_exporter": "python",
   "pygments_lexer": "ipython2",
   "version": "2.7.14"
  },
  "latex_envs": {
   "LaTeX_envs_menu_present": true,
   "autocomplete": true,
   "bibliofile": "biblio.bib",
   "cite_by": "apalike",
   "current_citInitial": 1,
   "eqLabelWithNumbers": true,
   "eqNumInitial": 1,
   "hotkeys": {
    "equation": "Ctrl-E",
    "itemize": "Ctrl-I"
   },
   "labels_anchors": false,
   "latex_user_defs": false,
   "report_style_numbering": false,
   "user_envs_cfg": false
  },
  "toc": {
   "colors": {
    "hover_highlight": "#DAA520",
    "navigate_num": "#000000",
    "navigate_text": "#333333",
    "running_highlight": "#FF0000",
    "selected_highlight": "#FFD700",
    "sidebar_border": "#EEEEEE",
    "wrapper_background": "#FFFFFF"
   },
   "moveMenuLeft": true,
   "nav_menu": {
    "height": "133px",
    "width": "252px"
   },
   "navigate_menu": true,
   "number_sections": true,
   "sideBar": true,
   "threshold": 4,
   "toc_cell": true,
   "toc_section_display": "block",
   "toc_window_display": true,
   "widenNotebook": false
  }
 },
 "nbformat": 4,
 "nbformat_minor": 2
}
